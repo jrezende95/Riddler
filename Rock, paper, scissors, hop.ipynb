{
 "cells": [
  {
   "cell_type": "code",
   "execution_count": 24,
   "metadata": {
    "collapsed": true
   },
   "outputs": [],
   "source": [
    "import pandas as pd\n",
    "import numpy as np\n",
    "from random import *\n",
    "import matplotlib.pyplot as plt"
   ]
  },
  {
   "cell_type": "code",
   "execution_count": 25,
   "metadata": {},
   "outputs": [
    {
     "data": {
      "image/png": "[encoded data removed]",
      "text/plain": [
       "<matplotlib.figure.Figure at 0x21a9fb43438>"
      ]
     },
     "metadata": {},
     "output_type": "display_data"
    }
   ],
   "source": [
    "x = []\n",
    "y = []\n",
    "iterations = 4000\n",
    "for n_hoops in range(8,75):\n",
    "    time = 0\n",
    "    for j in range(0,iterations):\n",
    "        win = False\n",
    "        p1 = 1\n",
    "        p2 = n_hoops\n",
    "        while not win:\n",
    "            if p1 == n_hoops:\n",
    "                win = True\n",
    "                time = time -2\n",
    "            if p2 == 1:\n",
    "                win = True\n",
    "                time = time - 2\n",
    "            if (p1+1) == p2 or p1 == p2:\n",
    "                game = random()\n",
    "                if game < 1/3:\n",
    "                    p2 = n_hoops\n",
    "                    time = time + 1\n",
    "                elif game < 2/3:\n",
    "                    p1 = 1\n",
    "                    time = time + 1\n",
    "                else:\n",
    "                    p1 = p1 - 1\n",
    "                    p2 = p2 + 1\n",
    "            time = time + 1\n",
    "            p1 = p1 + 1\n",
    "            p2 = p2 - 1\n",
    "    x.append(n_hoops)\n",
    "    y.append(time/iterations)\n",
    "plt.plot(x,y) \n",
    "plt.show()\n",
    "    "
   ]
  },
  {
   "cell_type": "code",
   "execution_count": 29,
   "metadata": {},
   "outputs": [
    {
     "name": "stdout",
     "output_type": "stream",
     "text": [
      "37.81325\n",
      "59\n",
      "1828.362\n"
     ]
    }
   ],
   "source": [
    "hoops =[]\n",
    "for i in range(0,len(x)):\n",
    "    if y[i] > 1800:\n",
    "        hoops.append(x[i])\n",
    "print(y[0])\n",
    "print(min(hoops))\n",
    "print(y[min(hoops)-8])"
   ]
  },
  {
   "cell_type": "code",
   "execution_count": null,
   "metadata": {
    "collapsed": true
   },
   "outputs": [],
   "source": []
  }
 ],
 "metadata": {
  "kernelspec": {
   "display_name": "Python 3",
   "language": "python",
   "name": "python3"
  },
  "language_info": {
   "codemirror_mode": {
    "name": "ipython",
    "version": 3
   },
   "file_extension": ".py",
   "mimetype": "text/x-python",
   "name": "python",
   "nbconvert_exporter": "python",
   "pygments_lexer": "ipython3",
   "version": "3.6.1"
  }
 },
 "nbformat": 4,
 "nbformat_minor": 2
}
